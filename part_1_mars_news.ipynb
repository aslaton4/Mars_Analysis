{
 "cells": [
  {
   "attachments": {},
   "cell_type": "markdown",
   "metadata": {},
   "source": [
    "# Module 11 Challenge\n",
    "## Deliverable 1: Scrape Titles and Preview Text from Mars News"
   ]
  },
  {
   "cell_type": "code",
   "execution_count": 1,
   "metadata": {},
   "outputs": [],
   "source": [
    "# Import Splinter and BeautifulSoup\n",
    "from splinter import Browser\n",
    "from bs4 import BeautifulSoup"
   ]
  },
  {
   "cell_type": "code",
   "execution_count": 2,
   "metadata": {
    "scrolled": true
   },
   "outputs": [],
   "source": [
    "browser = Browser('chrome')"
   ]
  },
  {
   "attachments": {},
   "cell_type": "markdown",
   "metadata": {},
   "source": [
    "### Step 1: Visit the Website\n",
    "\n",
    "1. Use automated browsing to visit the [Mars news site](https://static.bc-edx.com/data/web/mars_news/index.html). Inspect the page to identify which elements to scrape.\n",
    "\n",
    "      > **Hint** To identify which elements to scrape, you might want to inspect the page by using Chrome DevTools."
   ]
  },
  {
   "cell_type": "code",
   "execution_count": 3,
   "metadata": {},
   "outputs": [],
   "source": [
    "# Visit the Mars news site\n",
    "url = 'https://static.bc-edx.com/data/web/mars_news/index.html'\n",
    "browser.visit(url)"
   ]
  },
  {
   "attachments": {},
   "cell_type": "markdown",
   "metadata": {},
   "source": [
    "### Step 2: Scrape the Website\n",
    "\n",
    "Create a Beautiful Soup object and use it to extract text elements from the website."
   ]
  },
  {
   "cell_type": "code",
   "execution_count": 10,
   "metadata": {},
   "outputs": [
    {
     "name": "stdout",
     "output_type": "stream",
     "text": [
      "<div class=\"list_text\">\n",
      " <div class=\"content_title\">\n",
      "  NASA's Perseverance Rover Begins the Hunt for Signs of Ancient Life\n",
      " </div>\n",
      " <div class=\"article_teaser_body\">\n",
      "  NASA’s Perseverance rover has begun its search for signs of ancient life on Mars...\n",
      " </div>\n",
      "</div>\n",
      "<div class=\"list_text\">\n",
      " <div class=\"content_title\">\n",
      "  NASA to Host Briefing on Perseverance Rover Mission Operations\n",
      " </div>\n",
      " <div class=\"article_teaser_body\">\n",
      "  Members of the mission will discuss the rover’s activities as it begins its science campaign...\n",
      " </div>\n",
      "</div>\n",
      "\n"
     ]
    }
   ],
   "source": [
    "# Create a Beautiful Soup object\n",
    "html_content = \"\"\"\n",
    "<div class=\"list_text\">\n",
    "    <div class=\"content_title\">NASA's Perseverance Rover Begins the Hunt for Signs of Ancient Life</div>\n",
    "    <div class=\"article_teaser_body\">NASA’s Perseverance rover has begun its search for signs of ancient life on Mars...</div>\n",
    "</div>\n",
    "<div class=\"list_text\">\n",
    "    <div class=\"content_title\">NASA to Host Briefing on Perseverance Rover Mission Operations</div>\n",
    "    <div class=\"article_teaser_body\">Members of the mission will discuss the rover’s activities as it begins its science campaign...</div>\n",
    "</div>\n",
    "\"\"\"\n",
    "soup = BeautifulSoup(html_content, 'html.parser')\n",
    "\n",
    "print(soup.prettify())"
   ]
  },
  {
   "cell_type": "code",
   "execution_count": 11,
   "metadata": {},
   "outputs": [
    {
     "name": "stdout",
     "output_type": "stream",
     "text": [
      "[<div class=\"list_text\">\n",
      "<div class=\"content_title\">NASA's Perseverance Rover Begins the Hunt for Signs of Ancient Life</div>\n",
      "<div class=\"article_teaser_body\">NASA’s Perseverance rover has begun its search for signs of ancient life on Mars...</div>\n",
      "</div>, <div class=\"list_text\">\n",
      "<div class=\"content_title\">NASA to Host Briefing on Perseverance Rover Mission Operations</div>\n",
      "<div class=\"article_teaser_body\">Members of the mission will discuss the rover’s activities as it begins its science campaign...</div>\n",
      "</div>]\n"
     ]
    }
   ],
   "source": [
    "# Extract all the text elements\n",
    "articles = soup.find_all('div', class_='list_text')\n",
    "\n",
    "print(articles)"
   ]
  },
  {
   "attachments": {},
   "cell_type": "markdown",
   "metadata": {},
   "source": [
    "### Step 3: Store the Results\n",
    "\n",
    "Extract the titles and preview text of the news articles that you scraped. Store the scraping results in Python data structures as follows:\n",
    "\n",
    "* Store each title-and-preview pair in a Python dictionary. And, give each dictionary two keys: `title` and `preview`. An example is the following:\n",
    "\n",
    "  ```python\n",
    "  {'title': \"NASA's MAVEN Observes Martian Light Show Caused by Major Solar Storm\", \n",
    "   'preview': \"For the first time in its eight years orbiting Mars, NASA’s MAVEN mission witnessed two different types of ultraviolet aurorae simultaneously, the result of solar storms that began on Aug. 27.\"\n",
    "  }\n",
    "  ```\n",
    "\n",
    "* Store all the dictionaries in a Python list.\n",
    "\n",
    "* Print the list in your notebook."
   ]
  },
  {
   "cell_type": "code",
   "execution_count": 12,
   "metadata": {},
   "outputs": [],
   "source": [
    "# Create an empty list to store the dictionaries\n",
    "scraped_data = []\n"
   ]
  },
  {
   "cell_type": "code",
   "execution_count": 13,
   "metadata": {},
   "outputs": [],
   "source": [
    "# Loop through the text elements\n",
    "for article in articles:\n",
    "    \n",
    "# Extract the title and preview text from the elements\n",
    "    title = article.find('div', class_='content_title').text.strip()\n",
    "    preview = article.find('div', class_='article_teaser_body').text.strip()\n",
    "    \n",
    "# Store each title and preview pair in a dictionary\n",
    "    data_dict = {\n",
    "        'title': title,\n",
    "        'preview': preview\n",
    "    }\n",
    "    \n",
    "# Add the dictionary to the list\n",
    "    scraped_data.append(data_dict)\n",
    "\n"
   ]
  },
  {
   "cell_type": "code",
   "execution_count": 14,
   "metadata": {},
   "outputs": [
    {
     "name": "stdout",
     "output_type": "stream",
     "text": [
      "[{'title': \"NASA's Perseverance Rover Begins the Hunt for Signs of Ancient Life\", 'preview': 'NASA’s Perseverance rover has begun its search for signs of ancient life on Mars...'}, {'title': 'NASA to Host Briefing on Perseverance Rover Mission Operations', 'preview': 'Members of the mission will discuss the rover’s activities as it begins its science campaign...'}]\n"
     ]
    }
   ],
   "source": [
    "# Print the list to confirm success\n",
    "print(scraped_data)"
   ]
  },
  {
   "cell_type": "code",
   "execution_count": 15,
   "metadata": {},
   "outputs": [],
   "source": [
    "browser.quit()"
   ]
  },
  {
   "cell_type": "code",
   "execution_count": null,
   "metadata": {},
   "outputs": [],
   "source": []
  }
 ],
 "metadata": {
  "kernelspec": {
   "display_name": "Python 3 (ipykernel)",
   "language": "python",
   "name": "python3"
  },
  "language_info": {
   "codemirror_mode": {
    "name": "ipython",
    "version": 3
   },
   "file_extension": ".py",
   "mimetype": "text/x-python",
   "name": "python",
   "nbconvert_exporter": "python",
   "pygments_lexer": "ipython3",
   "version": "3.12.4"
  },
  "vscode": {
   "interpreter": {
    "hash": "31f2aee4e71d21fbe5cf8b01ff0e069b9275f58929596ceb00d14d90e3e16cd6"
   }
  }
 },
 "nbformat": 4,
 "nbformat_minor": 4
}
